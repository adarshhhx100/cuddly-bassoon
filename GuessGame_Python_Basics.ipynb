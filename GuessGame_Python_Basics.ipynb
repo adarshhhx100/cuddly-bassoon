{
  "nbformat": 4,
  "nbformat_minor": 0,
  "metadata": {
    "colab": {
      "provenance": [],
      "authorship_tag": "ABX9TyMLiua7noVAr26nQ6KU6OkB",
      "include_colab_link": true
    },
    "kernelspec": {
      "name": "python3",
      "display_name": "Python 3"
    },
    "language_info": {
      "name": "python"
    }
  },
  "cells": [
    {
      "cell_type": "markdown",
      "metadata": {
        "id": "view-in-github",
        "colab_type": "text"
      },
      "source": [
        "<a href=\"https://colab.research.google.com/github/adarshhhx100/cuddly-bassoon/blob/main/GuessGame_Python_Basics.ipynb\" target=\"_parent\"><img src=\"https://colab.research.google.com/assets/colab-badge.svg\" alt=\"Open In Colab\"/></a>"
      ]
    },
    {
      "cell_type": "code",
      "source": [
        "import random"
      ],
      "metadata": {
        "id": "zpq8robanrO7"
      },
      "execution_count": 6,
      "outputs": []
    },
    {
      "cell_type": "code",
      "source": [
        "random.randint(1,100)"
      ],
      "metadata": {
        "colab": {
          "base_uri": "https://localhost:8080/"
        },
        "id": "MypMx3bOraxS",
        "outputId": "7ca23835-4238-468b-84cd-688b82db1974"
      },
      "execution_count": 7,
      "outputs": [
        {
          "output_type": "execute_result",
          "data": {
            "text/plain": [
              "21"
            ]
          },
          "metadata": {},
          "execution_count": 7
        }
      ]
    },
    {
      "cell_type": "code",
      "source": [
        "jackpot = random.randint(1,100)\n",
        "guess = int(input('Guess karo'))\n",
        "counter = 1\n",
        "while guess != jackpot:\n",
        "    if guess < jackpot:\n",
        "        print('galat!guess higher')\n",
        "    else:\n",
        "        print('galat!guess lower')\n",
        "\n",
        "    guess = int(input('Guess karo'))\n",
        "    counter += 1\n",
        "else:\n",
        "    print('correct guess')\n",
        "    print('attempts',counter)"
      ],
      "metadata": {
        "colab": {
          "base_uri": "https://localhost:8080/"
        },
        "id": "veHUZWXVrfgT",
        "outputId": "e2e04a5f-ccd3-435d-f229-34734fad4d2f"
      },
      "execution_count": 10,
      "outputs": [
        {
          "output_type": "stream",
          "name": "stdout",
          "text": [
            "Guess karo55\n",
            "galat!guess higher\n",
            "Guess karo)6\n",
            "galat!guess higher\n",
            "Guess karo)4\n",
            "galat!guess higher\n",
            "Guess karo)56\n",
            "galat!guess higher\n",
            "Guess karo)1\n",
            "galat!guess higher\n",
            "Guess karo)55\n",
            "galat!guess higher\n",
            "Guess karo)60\n",
            "galat!guess higher\n",
            "Guess karo)70\n",
            "galat!guess higher\n",
            "Guess karo)80\n",
            "galat!guess higher\n",
            "Guess karo)90\n",
            "galat!guess lower\n",
            "Guess karo)85\n",
            "correct guess\n",
            "attempts 11\n"
          ]
        }
      ]
    },
    {
      "cell_type": "code",
      "source": [],
      "metadata": {
        "id": "4cBfCFMErpcW"
      },
      "execution_count": null,
      "outputs": []
    }
  ]
}